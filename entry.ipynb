{
 "cells": [
  {
   "cell_type": "code",
   "execution_count": 227,
   "metadata": {},
   "outputs": [],
   "source": [
    "from qoop.core import state, ansatz, metric\n",
    "import qiskit\n",
    "from qiskit import transpile\n",
    "from qiskit.quantum_info import Operator, DensityMatrix, Kraus\n",
    "from scipy.linalg import qr\n",
    "import numpy as np"
   ]
  },
  {
   "cell_type": "markdown",
   "metadata": {},
   "source": [
    "<img src = './docs/1.png' height ='800px'>"
   ]
  },
  {
   "cell_type": "code",
   "execution_count": 228,
   "metadata": {},
   "outputs": [],
   "source": [
    "# Step 1: Read quantum compilation and learn how to use qoop\n",
    "# https://github.com/vutuanhai237/qoop/wiki/Advance:-Custom-state-preparation\n",
    "\n",
    "# Step 2: Implement the following function\n",
    "\n",
    "#Create a ansatz V with n qubits\n",
    "def V(num_qubits: int):\n",
    "    return ansatz.stargraph (num_qubits=num_qubits)\n",
    "\n",
    "# def Epsilon(rho, kraus_operators):\n",
    "#     # K = K_noise = [\\sqrt(p) I @ I, \\sqrt(1-p) Z @ Z]\n",
    "#     # see Eq. 1 Ref. [1]\n",
    "#     return sum(K @ rho.data @ np.transpose(np.conjugate(K)) for K in kraus_operators)\n",
    "\n",
    "# def Epsilon2(rho, unitary_matrix):\n",
    "#     # K = K_noise = [\\sqrt(p) I @ I, \\sqrt(1-p) Z @ Z]\n",
    "#     # see Eq. 1 Ref. [1]\n",
    "#     return (np.transpose(np.conjugate(unitary_matrix)) @ rho.data @ unitary_matrix)\n",
    "\n",
    "def calRho3 (rho, unitary_matrix, kraus_operators):\n",
    "    rho2 = sum(K @ rho.data @ np.transpose(np.conjugate(K)) for K in kraus_operators)\n",
    "    rho3 = (np.transpose(np.conjugate(unitary_matrix)) @ rho2.data @ unitary_matrix)\n",
    "    return rho3\n",
    "\n",
    "def createKraus(unitary_matrix):\n",
    "    kraus_ops = []\n",
    "    Q, R = qr(unitary_matrix) #(16,16) -> vector 1x16\n",
    "\n",
    "    #print(Q.shape)\n",
    "    for q in Q:\n",
    "        \n",
    "        q = np.expand_dims(q, 1)\n",
    "        #print(q)\n",
    "        #print(np.transpose(np.conjugate(q)))\n",
    "        #print(q @ np.transpose(np.conjugate(q)))\n",
    "        kraus_ops.append(q @ np.transpose(np.conjugate(q))) #vector 1x16\n",
    "\n",
    "    \n",
    "    return kraus_ops\n",
    "\n"
   ]
  },
  {
   "cell_type": "code",
   "execution_count": 229,
   "metadata": {},
   "outputs": [
    {
     "name": "stdout",
     "output_type": "stream",
     "text": [
      "     ┌────────────┐   \n",
      "q_0: ┤ Ry(5.1115) ├─■─\n",
      "     ├────────────┤ │ \n",
      "q_1: ┤ Ry(4.0308) ├─■─\n",
      "     └────────────┘   \n"
     ]
    }
   ],
   "source": [
    "num_qubits = 2\n",
    "\n",
    "#Create a ansatz V with n qubits\n",
    "circuit = V(num_qubits)\n",
    "\n",
    "#Assign random parameter\n",
    "num_params = circuit.num_parameters\n",
    "x0 = 2 * np.pi * np.random.random(num_params)\n",
    "circuit = circuit.assign_parameters(dict(zip(circuit.parameters, x0)))\n",
    "\n",
    "print(circuit)"
   ]
  },
  {
   "cell_type": "code",
   "execution_count": 230,
   "metadata": {},
   "outputs": [
    {
     "name": "stdout",
     "output_type": "stream",
     "text": [
      "(4, 4)\n"
     ]
    }
   ],
   "source": [
    "# Get the unitary operator corresponding to the circuit\n",
    "unitary_op = Operator(circuit)\n",
    "\n",
    "# Get the unitary matrix\n",
    "unitary_matrix = unitary_op.data\n",
    "print (unitary_matrix.shape) #(16, 16 as num_qubits is 4)"
   ]
  },
  {
   "cell_type": "code",
   "execution_count": 231,
   "metadata": {},
   "outputs": [
    {
     "name": "stdout",
     "output_type": "stream",
     "text": [
      "[[ 1.00000000e+00+0.j -5.55111512e-17+0.j  1.24900090e-16+0.j\n",
      "   8.32667268e-17+0.j]\n",
      " [-5.55111512e-17+0.j  1.00000000e+00+0.j  1.66533454e-16+0.j\n",
      "  -1.11022302e-16+0.j]\n",
      " [ 1.24900090e-16+0.j  1.66533454e-16+0.j  1.00000000e+00+0.j\n",
      "   1.66533454e-16+0.j]\n",
      " [ 8.32667268e-17+0.j -1.11022302e-16+0.j  1.66533454e-16+0.j\n",
      "   1.00000000e+00+0.j]]\n"
     ]
    }
   ],
   "source": [
    "KrausOperators = createKraus(unitary_matrix=unitary_matrix)\n",
    "print(sum(K @ np.transpose(np.conjugate(K)) for K in KrausOperators))\n"
   ]
  },
  {
   "cell_type": "code",
   "execution_count": 232,
   "metadata": {},
   "outputs": [],
   "source": [
    "#rho\n",
    "# rho = DensityMatrix.from_label('0' * 2)\n",
    "# rho2 = Epsilon(rho=rho, kraus_operators=KrausOperators)\n",
    "# print(rho2)\n",
    "\n",
    "# rho3 = Epsilon2(rho=rho2, unitary_matrix=unitary_matrix)\n",
    "# print(rho3)\n"
   ]
  },
  {
   "cell_type": "code",
   "execution_count": 233,
   "metadata": {},
   "outputs": [
    {
     "name": "stdout",
     "output_type": "stream",
     "text": [
      "[[ 0.26896447+0.j  0.10549981+0.j  0.0591176 +0.j  0.15253954+0.j]\n",
      " [ 0.10549981+0.j  0.13468363+0.j  0.06494594+0.j  0.11828246+0.j]\n",
      " [ 0.0591176 +0.j  0.06494594+0.j  0.19489938+0.j -0.00831074+0.j]\n",
      " [ 0.15253954+0.j  0.11828246+0.j -0.00831074+0.j  0.40145251+0.j]]\n"
     ]
    }
   ],
   "source": [
    "#rho\n",
    "rho = DensityMatrix.from_label('0' * num_qubits)\n",
    "rho3 = calRho3(rho=rho, kraus_operators=KrausOperators, unitary_matrix=unitary_matrix)\n",
    "print(rho3)\n"
   ]
  },
  {
   "cell_type": "code",
   "execution_count": 234,
   "metadata": {},
   "outputs": [
    {
     "name": "stdout",
     "output_type": "stream",
     "text": [
      "0.5126054893430912\n"
     ]
    }
   ],
   "source": [
    "#cost func compare rho, rho3\n",
    "def cost(rho, rho3):\n",
    "    return 1-metric.compilation_trace_fidelity(rho, rho3)\n",
    "\n",
    "print(cost(rho=rho, rho3=rho3))\n",
    "\n",
    "#Nhận U, K trả về rho3"
   ]
  },
  {
   "cell_type": "code",
   "execution_count": 235,
   "metadata": {},
   "outputs": [],
   "source": [
    "# Step 3: Implement the following function\n",
    "# state_need_tomogaphy = ...\n",
    "# rho = np.conjugate(np.transpose(state_need_tomogaphy)) @ state_need_tomogaphy   # density matrix\n",
    "# rho' = Delta(rho)\n",
    "# compiler = qoop.qcompilation.QuantumCompilation(U = rho', V = V())\n",
    "# compiler.fit()\n",
    "# compiler.plot()\n",
    "# see fidelities versus iteration"
   ]
  },
  {
   "cell_type": "markdown",
   "metadata": {},
   "source": [
    "<img src = './docs/2.png' height ='800px'>"
   ]
  },
  {
   "cell_type": "markdown",
   "metadata": {},
   "source": [
    "<img src = './docs/3.jpg' height ='800px'>"
   ]
  },
  {
   "cell_type": "code",
   "execution_count": 422,
   "metadata": {},
   "outputs": [],
   "source": [
    "def Derivative(rho, unitary_matrix, kraus_operators, epsilon=0.01, alpha=0.1):\n",
    "    kraus_operators_plus = kraus_operators.copy()\n",
    "    kraus_operators_minus = kraus_operators.copy()\n",
    "    c = 1\n",
    "    \n",
    "    # Loop through Kraus operators\n",
    "    for n, k in enumerate(kraus_operators):\n",
    "        k_plus = k + epsilon # Kj(+epsilon)\n",
    "        k_minus = k - epsilon # Kj(-epsilon)\n",
    "        \n",
    "        kraus_operators_plus[n] = k_plus # Replace Kj by new Kj_plus\n",
    "        kraus_operators_minus[n] = k_minus # Replace Kj by new Kj_minus\n",
    "        #print(kraus_operators_minus)\n",
    "        #print(kraus_operators_plus)\n",
    "\n",
    "        # Compute fidelity for K+ and K-\n",
    "        fil_plus = metric.compilation_trace_fidelity(rho, calRho3(rho=rho, unitary_matrix=unitary_matrix, kraus_operators=kraus_operators_plus))\n",
    "        fil_minus = metric.compilation_trace_fidelity(rho, calRho3(rho=rho, unitary_matrix=unitary_matrix, kraus_operators=kraus_operators_minus))\n",
    "        \n",
    "        # Compute the derivative\n",
    "        derivative = (fil_plus - fil_minus) / (2*epsilon)\n",
    "\n",
    "        # Accumulate\n",
    "        c *= derivative\n",
    "        \n",
    "        # Reset Kraus operators for next iteration\n",
    "        kraus_operators_plus[n] = k\n",
    "        kraus_operators_minus[n] = k\n",
    "\n",
    "        \n",
    "    \n",
    "    # Update Kraus operators\n",
    "    kraus_operators_res = [k - alpha * c for k in kraus_operators]\n",
    "    print ('c=', c)\n",
    "    #print(kraus_operators_res)\n",
    "    return kraus_operators_res"
   ]
  },
  {
   "cell_type": "code",
   "execution_count": null,
   "metadata": {},
   "outputs": [],
   "source": [
    "# Create a copy\n",
    "KrausOperatorsTry = KrausOperators.copy()\n",
    "a = 1\n",
    "\n",
    "# Loop until the cost <= 0.01\n",
    "while (a > 0.01):\n",
    "    \n",
    "    KrausOperatorsTry = Derivative(rho, unitary_matrix, KrausOperatorsTry) # Update Kraus Operators \n",
    "    print(sum(K @ np.transpose(np.conjugate(K)) for K in KrausOperatorsTry)) # Should be I though\n",
    "    a = cost(rho, calRho3(rho, unitary_matrix, KrausOperatorsTry))\n",
    "    print (a)"
   ]
  },
  {
   "cell_type": "code",
   "execution_count": 424,
   "metadata": {},
   "outputs": [],
   "source": [
    "KrausOperatorsTry = KrausOperators.copy()"
   ]
  },
  {
   "cell_type": "code",
   "execution_count": 463,
   "metadata": {},
   "outputs": [
    {
     "name": "stdout",
     "output_type": "stream",
     "text": [
      "[[1.1343327+0.j 0.1343327+0.j 0.1343327+0.j 0.1343327+0.j]\n",
      " [0.1343327+0.j 1.1343327+0.j 0.1343327+0.j 0.1343327+0.j]\n",
      " [0.1343327+0.j 0.1343327+0.j 1.1343327+0.j 0.1343327+0.j]\n",
      " [0.1343327+0.j 0.1343327+0.j 0.1343327+0.j 1.1343327+0.j]]\n",
      "c= -0.0007357447130613236\n",
      "0.5305235521980403\n"
     ]
    }
   ],
   "source": [
    "# try looping manually\n",
    "print(sum(K @ np.transpose(np.conjugate(K)) for K in KrausOperatorsTry))\n",
    "a = cost(rho, calRho3(rho, unitary_matrix, KrausOperatorsTry))\n",
    "KrausOperatorsTry = Derivative(rho, unitary_matrix, KrausOperatorsTry) \n",
    "print (a)"
   ]
  }
 ],
 "metadata": {
  "kernelspec": {
   "display_name": "Python 3",
   "language": "python",
   "name": "python3"
  },
  "language_info": {
   "codemirror_mode": {
    "name": "ipython",
    "version": 3
   },
   "file_extension": ".py",
   "mimetype": "text/x-python",
   "name": "python",
   "nbconvert_exporter": "python",
   "pygments_lexer": "ipython3",
   "version": "3.11.4"
  }
 },
 "nbformat": 4,
 "nbformat_minor": 2
}
