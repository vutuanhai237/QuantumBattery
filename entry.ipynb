{
 "cells": [
  {
   "cell_type": "code",
   "execution_count": 142,
   "metadata": {},
   "outputs": [],
   "source": [
    "from qoop.core import state, ansatz, metric\n",
    "import qiskit\n",
    "from qiskit import transpile\n",
    "from qiskit.quantum_info import Operator, DensityMatrix, Kraus\n",
    "from scipy.linalg import qr\n",
    "import numpy as np"
   ]
  },
  {
   "cell_type": "markdown",
   "metadata": {},
   "source": [
    "<img src = './docs/1.png' height ='800px'>"
   ]
  },
  {
   "cell_type": "code",
   "execution_count": 152,
   "metadata": {},
   "outputs": [],
   "source": [
    "# Step 1: Read quantum compilation and learn how to use qoop\n",
    "# https://github.com/vutuanhai237/qoop/wiki/Advance:-Custom-state-preparation\n",
    "\n",
    "# Step 2: Implement the following function\n",
    "\n",
    "#Create a ansatz V with n qubits\n",
    "def V(num_qubits: int):\n",
    "    return ansatz.stargraph (num_qubits=num_qubits)\n",
    "\n",
    "# def Epsilon(rho, kraus_operators):\n",
    "#     # K = K_noise = [\\sqrt(p) I @ I, \\sqrt(1-p) Z @ Z]\n",
    "#     # see Eq. 1 Ref. [1]\n",
    "#     return sum(K @ rho.data @ np.transpose(np.conjugate(K)) for K in kraus_operators)\n",
    "\n",
    "# def Epsilon2(rho, unitary_matrix):\n",
    "#     # K = K_noise = [\\sqrt(p) I @ I, \\sqrt(1-p) Z @ Z]\n",
    "#     # see Eq. 1 Ref. [1]\n",
    "#     return (np.transpose(np.conjugate(unitary_matrix)) @ rho.data @ unitary_matrix)\n",
    "\n",
    "def calRho3 (rho, unitary_matrix, kraus_operators):\n",
    "    rho2 = sum(K @ rho.data @ np.transpose(np.conjugate(K)) for K in kraus_operators)\n",
    "    rho3 = (np.transpose(np.conjugate(unitary_matrix)) @ rho2.data @ unitary_matrix)\n",
    "    return rho3\n",
    "\n",
    "def createKraus(unitary_matrix):\n",
    "    kraus_ops = []\n",
    "    Q, R = qr(unitary_matrix) #(16,16) -> vector 1x16\n",
    "\n",
    "    #print(Q.shape)\n",
    "    for q in Q:\n",
    "        \n",
    "        q = np.expand_dims(q, 1)\n",
    "        #print(q)\n",
    "        #print(np.transpose(np.conjugate(q)))\n",
    "        #print(q @ np.transpose(np.conjugate(q)))\n",
    "        kraus_ops.append(q @ np.transpose(np.conjugate(q))) #vector 1x16\n",
    "\n",
    "    \n",
    "    return kraus_ops\n",
    "\n"
   ]
  },
  {
   "cell_type": "code",
   "execution_count": 155,
   "metadata": {},
   "outputs": [
    {
     "name": "stdout",
     "output_type": "stream",
     "text": [
      "      ┌──────────┐   \n",
      "q_0: ─┤ Ry(1.37) ├─■─\n",
      "     ┌┴──────────┤ │ \n",
      "q_1: ┤ Ry(2.809) ├─■─\n",
      "     └───────────┘   \n"
     ]
    }
   ],
   "source": [
    "num_qubits = 2\n",
    "\n",
    "#Create a ansatz V with n qubits\n",
    "circuit = V(num_qubits)\n",
    "\n",
    "#Assign random parameter\n",
    "num_params = circuit.num_parameters\n",
    "x0 = 2 * np.pi * np.random.random(num_params)\n",
    "circuit = circuit.assign_parameters(dict(zip(circuit.parameters, x0)))\n",
    "\n",
    "print(circuit)"
   ]
  },
  {
   "cell_type": "code",
   "execution_count": 156,
   "metadata": {},
   "outputs": [
    {
     "name": "stdout",
     "output_type": "stream",
     "text": [
      "(4, 4)\n"
     ]
    }
   ],
   "source": [
    "# Get the unitary operator corresponding to the circuit\n",
    "unitary_op = Operator(circuit)\n",
    "\n",
    "# Get the unitary matrix\n",
    "unitary_matrix = unitary_op.data\n",
    "print (unitary_matrix.shape) #(16, 16 as num_qubits is 4)"
   ]
  },
  {
   "cell_type": "code",
   "execution_count": 157,
   "metadata": {},
   "outputs": [
    {
     "name": "stdout",
     "output_type": "stream",
     "text": [
      "[[ 1.00000000e+00+0.j -1.11022302e-16+0.j -9.71445147e-17+0.j\n",
      "   4.16333634e-17+0.j]\n",
      " [-1.11022302e-16+0.j  1.00000000e+00+0.j  4.16333634e-17+0.j\n",
      "  -1.38777878e-17+0.j]\n",
      " [-9.71445147e-17+0.j  4.16333634e-17+0.j  1.00000000e+00+0.j\n",
      "  -1.90819582e-17+0.j]\n",
      " [ 4.16333634e-17+0.j -1.38777878e-17+0.j -1.90819582e-17+0.j\n",
      "   1.00000000e+00+0.j]]\n"
     ]
    }
   ],
   "source": [
    "KrausOperators = createKraus(unitary_matrix=unitary_matrix)\n",
    "print(sum(K @ np.transpose(np.conjugate(K)) for K in KrausOperators))\n"
   ]
  },
  {
   "cell_type": "code",
   "execution_count": null,
   "metadata": {},
   "outputs": [],
   "source": [
    "#rho\n",
    "# rho = DensityMatrix.from_label('0' * 2)\n",
    "# rho2 = Epsilon(rho=rho, kraus_operators=KrausOperators)\n",
    "# print(rho2)\n",
    "\n",
    "# rho3 = Epsilon2(rho=rho2, unitary_matrix=unitary_matrix)\n",
    "# print(rho3)\n"
   ]
  },
  {
   "cell_type": "code",
   "execution_count": 160,
   "metadata": {},
   "outputs": [
    {
     "name": "stdout",
     "output_type": "stream",
     "text": [
      "[[ 0.04769207+0.j -0.02568851+0.j -0.07530716+0.j  0.09254917+0.j]\n",
      " [-0.02568851+0.j  0.03207227+0.j  0.06239853+0.j -0.07632505+0.j]\n",
      " [-0.07530716+0.j  0.06239853+0.j  0.3707299 +0.j -0.01120718+0.j]\n",
      " [ 0.09254917+0.j -0.07632505+0.j -0.01120718+0.j  0.54950576+0.j]]\n"
     ]
    }
   ],
   "source": [
    "#rho\n",
    "rho = DensityMatrix.from_label('0' * num_qubits)\n",
    "rho3 = calRho3(rho=rho, kraus_operators=KrausOperators, unitary_matrix=unitary_matrix)\n",
    "print(rho3)\n"
   ]
  },
  {
   "cell_type": "code",
   "execution_count": 159,
   "metadata": {},
   "outputs": [
    {
     "name": "stdout",
     "output_type": "stream",
     "text": [
      "0.8347985494709932\n"
     ]
    }
   ],
   "source": [
    "#cost func compare rho, rho3\n",
    "def cost(rho, rho3):\n",
    "    return 1-metric.compilation_trace_fidelity(rho, rho3)\n",
    "\n",
    "print(cost(rho=rho, rho3=rho3))\n",
    "\n",
    "#Nhận U, K trả về rho3"
   ]
  },
  {
   "cell_type": "code",
   "execution_count": null,
   "metadata": {},
   "outputs": [],
   "source": [
    "# Step 3: Implement the following function\n",
    "# state_need_tomogaphy = ...\n",
    "# rho = np.conjugate(np.transpose(state_need_tomogaphy)) @ state_need_tomogaphy   # density matrix\n",
    "# rho' = Delta(rho)\n",
    "# compiler = qoop.qcompilation.QuantumCompilation(U = rho', V = V())\n",
    "# compiler.fit()\n",
    "# compiler.plot()\n",
    "# see fidelities versus iteration"
   ]
  },
  {
   "cell_type": "markdown",
   "metadata": {},
   "source": [
    "<img src = './docs/2.png' height ='800px'>"
   ]
  }
 ],
 "metadata": {
  "kernelspec": {
   "display_name": "Python 3",
   "language": "python",
   "name": "python3"
  },
  "language_info": {
   "codemirror_mode": {
    "name": "ipython",
    "version": 3
   },
   "file_extension": ".py",
   "mimetype": "text/x-python",
   "name": "python",
   "nbconvert_exporter": "python",
   "pygments_lexer": "ipython3",
   "version": "3.11.4"
  }
 },
 "nbformat": 4,
 "nbformat_minor": 2
}
