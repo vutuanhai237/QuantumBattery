{
 "cells": [
  {
   "cell_type": "code",
   "execution_count": 795,
   "metadata": {},
   "outputs": [],
   "source": [
    "from qoop.core import state, ansatz, metric\n",
    "import qiskit\n",
    "from qiskit import transpile\n",
    "from qiskit.quantum_info import Operator, DensityMatrix, Kraus\n",
    "from scipy.linalg import qr\n",
    "import numpy as np\n",
    "import tensorflow as tf"
   ]
  },
  {
   "cell_type": "markdown",
   "metadata": {},
   "source": [
    "<img src = './docs/1.png' height ='800px'>"
   ]
  },
  {
   "cell_type": "code",
   "execution_count": 796,
   "metadata": {},
   "outputs": [],
   "source": [
    "# Step 1: Read quantum compilation and learn how to use qoop\n",
    "# https://github.com/vutuanhai237/qoop/wiki/Advance:-Custom-state-preparation\n",
    "\n",
    "# Step 2: Implement the following function\n",
    "\n",
    "#Create a ansatz V with n qubits\n",
    "def V(num_qubits: int):\n",
    "    return ansatz.stargraph (num_qubits=num_qubits)\n",
    "\n",
    "# def Epsilon(rho, kraus_operators):\n",
    "#     # K = K_noise = [\\sqrt(p) I @ I, \\sqrt(1-p) Z @ Z]\n",
    "#     # see Eq. 1 Ref. [1]\n",
    "#     return sum(K @ rho.data @ np.transpose(np.conjugate(K)) for K in kraus_operators)\n",
    "\n",
    "# def Epsilon2(rho, unitary_matrix):\n",
    "#     # K = K_noise = [\\sqrt(p) I @ I, \\sqrt(1-p) Z @ Z]\n",
    "#     # see Eq. 1 Ref. [1]\n",
    "#     return (np.transpose(np.conjugate(unitary_matrix)) @ rho.data @ unitary_matrix)\n",
    "\n",
    "def calRho3 (rho, unitary_matrix, kraus_operators):\n",
    "    rho2 = sum(K @ rho @ np.transpose(np.conjugate(K)) for K in kraus_operators)\n",
    "    rho3 = (np.transpose(np.conjugate(unitary_matrix)) @ rho2 @ unitary_matrix)\n",
    "    return rho3\n",
    "\n",
    "def createKraus(unitary_matrix):\n",
    "    kraus_ops = []\n",
    "    Q, R = qr(unitary_matrix)\n",
    "\n",
    "    #print(Q.shape)\n",
    "    for q in Q:\n",
    "        \n",
    "        q = np.expand_dims(q, 1)\n",
    "        #print(q)\n",
    "        #print(np.transpose(np.conjugate(q)))\n",
    "        #print(q @ np.transpose(np.conjugate(q)))\n",
    "        kraus_ops.append(q @ np.transpose(np.conjugate(q)))\n",
    "\n",
    "    \n",
    "    return tf.convert_to_tensor(kraus_ops)\n",
    "\n",
    "def tf_sqrtm(matrix):\n",
    "    # Eigenvalue Decomposition to compute the matrix square root\n",
    "    eigenvalues, eigenvectors = tf.linalg.eigh(matrix)\n",
    "    sqrt_eigenvalues = tf.sqrt(tf.maximum(eigenvalues, 0))  # Ensure non-negative eigenvalues\n",
    "    sqrt_matrix = tf.matmul(eigenvectors, tf.linalg.diag(sqrt_eigenvalues))\n",
    "    sqrt_matrix = tf.matmul(sqrt_matrix, tf.linalg.adjoint(eigenvectors))\n",
    "    return sqrt_matrix\n",
    "\n",
    "import spicy\n",
    "def compilation_trace_fidelity(rho, sigma):\n",
    "    \"\"\"Calculating the fidelity metric\n",
    "\n",
    "    Args:\n",
    "        - rho (DensityMatrix): first density matrix\n",
    "        - sigma (DensityMatrix): second density matrix\n",
    "\n",
    "    Returns:\n",
    "        - float: trace metric has value from 0 to 1\n",
    "    \"\"\"\n",
    "\n",
    "    return tf.linalg.trace(\n",
    "            rho\n",
    "            @ (tf.linalg.sqrtm(sigma))\n",
    "        )\n",
    "    \n"
   ]
  },
  {
   "cell_type": "code",
   "execution_count": 797,
   "metadata": {},
   "outputs": [
    {
     "name": "stdout",
     "output_type": "stream",
     "text": [
      "     ┌────────────┐   \n",
      "q_0: ┤ Ry(5.5279) ├─■─\n",
      "     ├────────────┤ │ \n",
      "q_1: ┤ Ry(4.9312) ├─■─\n",
      "     └────────────┘   \n"
     ]
    }
   ],
   "source": [
    "num_qubits = 2\n",
    "\n",
    "#Create a ansatz V with n qubits\n",
    "circuit = V(num_qubits)\n",
    "\n",
    "#Assign random parameter\n",
    "num_params = circuit.num_parameters\n",
    "x0 = 2 * np.pi * np.random.random(num_params)\n",
    "circuit = circuit.assign_parameters(dict(zip(circuit.parameters, x0)))\n",
    "\n",
    "print(circuit)"
   ]
  },
  {
   "cell_type": "code",
   "execution_count": 798,
   "metadata": {},
   "outputs": [
    {
     "name": "stdout",
     "output_type": "stream",
     "text": [
      "(4, 4)\n"
     ]
    }
   ],
   "source": [
    "# Get the unitary operator corresponding to the circuit\n",
    "unitary_op = Operator(circuit)\n",
    "\n",
    "# Get the unitary matrix\n",
    "unitary_matrix = unitary_op.data\n",
    "print (unitary_matrix.shape) #(16, 16 as num_qubits is 4)"
   ]
  },
  {
   "cell_type": "code",
   "execution_count": 799,
   "metadata": {},
   "outputs": [
    {
     "name": "stdout",
     "output_type": "stream",
     "text": [
      "tf.Tensor(\n",
      "[[1.00000000e+00+0.j 2.77555756e-17+0.j 1.11022302e-16+0.j\n",
      "  0.00000000e+00+0.j]\n",
      " [2.77555756e-17+0.j 1.00000000e+00+0.j 2.77555756e-17+0.j\n",
      "  0.00000000e+00+0.j]\n",
      " [1.11022302e-16+0.j 2.77555756e-17+0.j 1.00000000e+00+0.j\n",
      "  0.00000000e+00+0.j]\n",
      " [0.00000000e+00+0.j 0.00000000e+00+0.j 0.00000000e+00+0.j\n",
      "  1.00000000e+00+0.j]], shape=(4, 4), dtype=complex128)\n"
     ]
    }
   ],
   "source": [
    "KrausOperators = createKraus(unitary_matrix=unitary_matrix)\n",
    "print(sum(K @ np.transpose(np.conjugate(K)) for K in KrausOperators))\n"
   ]
  },
  {
   "cell_type": "code",
   "execution_count": 800,
   "metadata": {},
   "outputs": [
    {
     "name": "stdout",
     "output_type": "stream",
     "text": [
      "tf.Tensor(\n",
      "[[ 0.26237234+0.j  0.0803281 +0.j -0.05308222+0.j  0.07430116+0.j]\n",
      " [ 0.0803281 +0.j  0.18791558+0.j  0.12718158+0.j  0.08827562+0.j]\n",
      " [-0.05308222+0.j  0.12718158+0.j  0.42254783+0.j  0.10992494+0.j]\n",
      " [ 0.07430116+0.j  0.08827562+0.j  0.10992494+0.j  0.12716426+0.j]], shape=(4, 4), dtype=complex128)\n",
      "tf.Tensor(\n",
      "[[1.+0.j 0.+0.j 0.+0.j 0.+0.j]\n",
      " [0.+0.j 0.+0.j 0.+0.j 0.+0.j]\n",
      " [0.+0.j 0.+0.j 0.+0.j 0.+0.j]\n",
      " [0.+0.j 0.+0.j 0.+0.j 0.+0.j]], shape=(4, 4), dtype=complex128)\n"
     ]
    }
   ],
   "source": [
    "#rho\n",
    "rho = DensityMatrix.from_label('0' * num_qubits)\n",
    "rho = tf.convert_to_tensor(rho)\n",
    "rho3 = calRho3(rho=rho, kraus_operators=KrausOperators, unitary_matrix=unitary_matrix)\n",
    "print(rho3)\n",
    "print(rho)\n"
   ]
  },
  {
   "cell_type": "code",
   "execution_count": 801,
   "metadata": {},
   "outputs": [
    {
     "name": "stdout",
     "output_type": "stream",
     "text": [
      "tf.Tensor((0.508462845496223+0j), shape=(), dtype=complex128)\n"
     ]
    }
   ],
   "source": [
    "#cost func compare rho, rho3\n",
    "def cost(rho, rho3):\n",
    "    return 1-compilation_trace_fidelity(rho, rho3)\n",
    "\n",
    "print(cost(rho=rho, rho3=rho3))\n",
    "\n",
    "#Nhận U, K trả về rho3"
   ]
  },
  {
   "cell_type": "code",
   "execution_count": 802,
   "metadata": {},
   "outputs": [],
   "source": [
    "# Step 3: Implement the following function\n",
    "# state_need_tomogaphy = ...\n",
    "# rho = np.conjugate(np.transpose(state_need_tomogaphy)) @ state_need_tomogaphy   # density matrix\n",
    "# rho' = Delta(rho)\n",
    "# compiler = qoop.qcompilation.QuantumCompilation(U = rho', V = V())\n",
    "# compiler.fit()\n",
    "# compiler.plot()\n",
    "# see fidelities versus iteration"
   ]
  },
  {
   "cell_type": "markdown",
   "metadata": {},
   "source": [
    "<img src = './docs/2.png' height ='800px'>"
   ]
  },
  {
   "cell_type": "markdown",
   "metadata": {},
   "source": [
    "<img src = './docs/3.jpg' height ='800px'>"
   ]
  },
  {
   "cell_type": "markdown",
   "metadata": {},
   "source": [
    "<img src = './docs/4.png' height ='200px'>"
   ]
  },
  {
   "cell_type": "code",
   "execution_count": 803,
   "metadata": {},
   "outputs": [
    {
     "data": {
      "text/plain": [
       "\"def Derivative(rho, unitary_matrix, kraus_operators, epsilon=0.01, alpha=0.1):\\n    # Deep copy of the Kraus operators to avoid unintended modifications\\n    kraus_operators_plus = kraus_operators.copy()\\n    kraus_operators_minus = kraus_operators.copy()\\n    c = []\\n    \\n    # Loop through Kraus operators\\n    for n, k in enumerate(kraus_operators):\\n        k_plus = k + epsilon # Kj(+epsilon)\\n        k_minus = k - epsilon # Kj(-epsilon)\\n      \\n        kraus_operators_plus[n] = k_plus # Replace Kj by new Kj_plus\\n        kraus_operators_minus[n] = k_minus # Replace Kj by new Kj_minus\\n\\n        # Compute fidelity for K+ and K-\\n        fil_plus = metric.compilation_trace_fidelity(rho, calRho3(rho=rho, unitary_matrix=unitary_matrix, kraus_operators=kraus_operators_plus))\\n        fil_minus = metric.compilation_trace_fidelity(rho, calRho3(rho=rho, unitary_matrix=unitary_matrix, kraus_operators=kraus_operators_minus))\\n        \\n        # Compute the derivative\\n        derivative = -(fil_plus - fil_minus) / epsilon\\n\\n        # Accumulate\\n        c.append(derivative)\\n        \\n        # Reset Kraus operators for next iteration\\n        kraus_operators_plus[n] = k\\n        kraus_operators_minus[n] = k\\n    \\n    # Convert c to numpy array for further calculations\\n    c = np.array(c)\\n    \\n    # Compute the projection term\\n    kraus_operators_conj_transpose = np.transpose(np.conjugate(kraus_operators))\\n    proj = c - kraus_operators @ (kraus_operators @ np.transpose(np.conjugate(c)) + kraus_operators_conj_transpose @ c) / 2\\n    \\n    # Print debugging information\\n    print('c=', c)\\n    print('proj=', proj)\\n    \\n    # Return the updated Kraus operators\\n    return kraus_operators - proj\""
      ]
     },
     "execution_count": 803,
     "metadata": {},
     "output_type": "execute_result"
    }
   ],
   "source": [
    "\"\"\"def Derivative(rho, unitary_matrix, kraus_operators, epsilon=0.01, alpha=0.1):\n",
    "    # Deep copy of the Kraus operators to avoid unintended modifications\n",
    "    kraus_operators_plus = kraus_operators.copy()\n",
    "    kraus_operators_minus = kraus_operators.copy()\n",
    "    c = []\n",
    "    \n",
    "    # Loop through Kraus operators\n",
    "    for n, k in enumerate(kraus_operators):\n",
    "        k_plus = k + epsilon # Kj(+epsilon)\n",
    "        k_minus = k - epsilon # Kj(-epsilon)\n",
    "      \n",
    "        kraus_operators_plus[n] = k_plus # Replace Kj by new Kj_plus\n",
    "        kraus_operators_minus[n] = k_minus # Replace Kj by new Kj_minus\n",
    "\n",
    "        # Compute fidelity for K+ and K-\n",
    "        fil_plus = metric.compilation_trace_fidelity(rho, calRho3(rho=rho, unitary_matrix=unitary_matrix, kraus_operators=kraus_operators_plus))\n",
    "        fil_minus = metric.compilation_trace_fidelity(rho, calRho3(rho=rho, unitary_matrix=unitary_matrix, kraus_operators=kraus_operators_minus))\n",
    "        \n",
    "        # Compute the derivative\n",
    "        derivative = -(fil_plus - fil_minus) / epsilon\n",
    "\n",
    "        # Accumulate\n",
    "        c.append(derivative)\n",
    "        \n",
    "        # Reset Kraus operators for next iteration\n",
    "        kraus_operators_plus[n] = k\n",
    "        kraus_operators_minus[n] = k\n",
    "    \n",
    "    # Convert c to numpy array for further calculations\n",
    "    c = np.array(c)\n",
    "    \n",
    "    # Compute the projection term\n",
    "    kraus_operators_conj_transpose = np.transpose(np.conjugate(kraus_operators))\n",
    "    proj = c - kraus_operators @ (kraus_operators @ np.transpose(np.conjugate(c)) + kraus_operators_conj_transpose @ c) / 2\n",
    "    \n",
    "    # Print debugging information\n",
    "    print('c=', c)\n",
    "    print('proj=', proj)\n",
    "    \n",
    "    # Return the updated Kraus operators\n",
    "    return kraus_operators - proj\"\"\""
   ]
  },
  {
   "cell_type": "code",
   "execution_count": 804,
   "metadata": {},
   "outputs": [],
   "source": [
    "#Auto Diff\n",
    "def Derivative(rho, unitary_matrix, kraus_operators, epsilon=0.01, alpha=0.1):\n",
    "    tensorKraus = tf.Variable(kraus_operators)\n",
    "    with tf.GradientTape() as tape:\n",
    "        y = calRho3(rho, unitary_matrix, tensorKraus)\n",
    "        f = compilation_trace_fidelity(rho, y)\n",
    "        #f = tf.convert_to_tensor(f)\n",
    "    \n",
    "    #print(\"RHO= \", rho)\n",
    "    #print(\"RHO3= \", y)\n",
    "    # Get the gradient of y with respect to x\n",
    "    c = tape.gradient(f, tensorKraus)\n",
    "\n",
    "    #print(\"Function value:\", f)\n",
    "    #print(\"Gradient: \", c)\n",
    "\n",
    "    # Convert c to numpy array for further calculations\n",
    "    c = np.array(c[:,:, 0])\n",
    "    \n",
    "    # Compute the projection term\n",
    "    kraus_operators_conj_transpose = np.transpose(np.conjugate(kraus_operators))\n",
    "    proj = c - kraus_operators @ (kraus_operators @ np.transpose(np.conjugate(c)) + kraus_operators_conj_transpose @ c) / 2\n",
    "    \n",
    "    # Print debugging information\n",
    "    print('c=', c)\n",
    "    print('proj=', proj)\n",
    "    \n",
    "    # Return the updated Kraus operators\n",
    "    return kraus_operators - proj\n",
    "\n"
   ]
  },
  {
   "cell_type": "code",
   "execution_count": 805,
   "metadata": {},
   "outputs": [
    {
     "name": "stdout",
     "output_type": "stream",
     "text": [
      "tf.Tensor(9.0, shape=(), dtype=float32)\n",
      "Function value: 9.0\n",
      "Gradient:  6.0\n"
     ]
    }
   ],
   "source": [
    "import tensorflow as tf\n",
    "x = tf.Variable(3.0)\n",
    "\n",
    "with tf.GradientTape() as tape:\n",
    "    y = x**2\n",
    "        \n",
    "# Get the gradient of y with respect to x\n",
    "c = tape.gradient(y, x)\n",
    "print (y)\n",
    "print(\"Function value:\", y.numpy())\n",
    "print(\"Gradient: \", c.numpy())"
   ]
  },
  {
   "cell_type": "code",
   "execution_count": 806,
   "metadata": {},
   "outputs": [],
   "source": [
    "KrausOperatorsTry = tf.identity(KrausOperators)"
   ]
  },
  {
   "cell_type": "code",
   "execution_count": 816,
   "metadata": {},
   "outputs": [
    {
     "name": "stdout",
     "output_type": "stream",
     "text": [
      "tf.Tensor(\n",
      "[[ 14.18606766+0.j  15.51753278+0.j  38.76430119+0.j  17.95577833+0.j]\n",
      " [ 15.51753278+0.j  21.14653177+0.j  48.67686923+0.j  21.70139177+0.j]\n",
      " [ 38.76430119+0.j  48.67686923+0.j 118.55366201+0.j  53.92487103+0.j]\n",
      " [ 17.95577833+0.j  21.70139177+0.j  53.92487103+0.j  26.44010672+0.j]], shape=(4, 4), dtype=complex128)\n",
      "c= [[ 0.09916279+0.j -0.04273983+0.j -0.09838151+0.j -0.02406772+0.j]\n",
      " [ 0.18768393+0.j -0.04457908+0.j -0.07207834+0.j -0.03735972+0.j]\n",
      " [ 0.34588026+0.j -0.07471752+0.j -0.11650536+0.j -0.06503191+0.j]\n",
      " [ 0.29729137+0.j -0.06508895+0.j -0.105995  +0.j -0.05437943+0.j]]\n",
      "proj= tf.Tensor(\n",
      "[[[ 1.28870352e+00+0.j -2.11847338e-01+0.j -3.59050655e-01+0.j\n",
      "   -9.75187934e-02+0.j]\n",
      "  [ 1.35332049e+00+0.j -2.30139378e-01+0.j -3.60443117e-01+0.j\n",
      "   -1.40855941e-01+0.j]\n",
      "  [ 3.21157872e+00+0.j -5.46239818e-01+0.j -8.51022351e-01+0.j\n",
      "   -3.43792212e-01+0.j]\n",
      "  [ 1.66453487e+00+0.j -2.82615572e-01+0.j -4.43972806e-01+0.j\n",
      "   -1.75595921e-01+0.j]]\n",
      "\n",
      " [[ 8.10017128e-02+0.j -8.60571525e-03+0.j -3.56040280e-02+0.j\n",
      "    2.33600791e-02+0.j]\n",
      "  [ 1.27457562e-01+0.j -1.31626214e-02+0.j -1.90245297e-02+0.j\n",
      "    5.27820569e-03+0.j]\n",
      "  [ 2.75820089e-01+0.j -3.50335093e-02+0.j -4.87455793e-02+0.j\n",
      "   -8.46675567e-03+0.j]\n",
      "  [ 2.33160251e-01+0.j -2.58295544e-02+0.j -3.86715489e-02+0.j\n",
      "   -1.60525295e-04+0.j]]\n",
      "\n",
      " [[ 1.29407513e-01+0.j -7.13088198e-03+0.j -3.23075051e-02+0.j\n",
      "    3.37652243e-02+0.j]\n",
      "  [ 2.73728366e-01+0.j -2.19877825e-02+0.j -3.09040377e-02+0.j\n",
      "    1.45310810e-02+0.j]\n",
      "  [ 6.34063128e-01+0.j -6.23459092e-02+0.j -9.78784667e-02+0.j\n",
      "    2.03485631e-02+0.j]\n",
      "  [ 4.41830525e-01+0.j -3.99338467e-02+0.j -6.16179306e-02+0.j\n",
      "    1.58739826e-02+0.j]]\n",
      "\n",
      " [[ 7.81300429e-02+0.j -2.56894236e-04+0.j -2.10259022e-02+0.j\n",
      "    3.51912874e-02+0.j]\n",
      "  [ 2.21206980e-01+0.j -8.43767679e-03+0.j -6.38705026e-03+0.j\n",
      "    2.43033444e-02+0.j]\n",
      "  [ 2.89960324e-01+0.j -6.47762205e-03+0.j  4.17157512e-03+0.j\n",
      "    3.18832879e-02+0.j]\n",
      "  [ 1.72238812e-01+0.j -3.95616122e-03+0.j  2.22800513e-03+0.j\n",
      "    1.56729808e-02+0.j]]], shape=(4, 4, 4), dtype=complex128)\n",
      "tf.Tensor((-2.4747470040838473+0j), shape=(), dtype=complex128)\n"
     ]
    }
   ],
   "source": [
    "# try looping manually\n",
    "print(sum(K @ np.transpose(np.conjugate(K)) for K in KrausOperatorsTry))\n",
    "a = cost(rho, calRho3(rho, unitary_matrix, KrausOperatorsTry))\n",
    "KrausOperatorsTry=Derivative(rho, unitary_matrix, KrausOperatorsTry) \n",
    "print (a)"
   ]
  }
 ],
 "metadata": {
  "kernelspec": {
   "display_name": "Python 3",
   "language": "python",
   "name": "python3"
  },
  "language_info": {
   "codemirror_mode": {
    "name": "ipython",
    "version": 3
   },
   "file_extension": ".py",
   "mimetype": "text/x-python",
   "name": "python",
   "nbconvert_exporter": "python",
   "pygments_lexer": "ipython3",
   "version": "3.11.4"
  }
 },
 "nbformat": 4,
 "nbformat_minor": 2
}
