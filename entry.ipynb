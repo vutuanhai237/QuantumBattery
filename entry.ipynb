{
 "cells": [
  {
   "cell_type": "code",
   "execution_count": 1,
   "metadata": {},
   "outputs": [],
   "source": [
    "from qoop.core import state, ansatz"
   ]
  },
  {
   "cell_type": "markdown",
   "metadata": {},
   "source": [
    "<img src = './docs/1.png' height ='800px'>"
   ]
  },
  {
   "cell_type": "code",
   "execution_count": null,
   "metadata": {},
   "outputs": [],
   "source": [
    "# Step 1: Read quantum compilation and learn how to use qoop\n",
    "# https://github.com/vutuanhai237/qoop/wiki/Advance:-Custom-state-preparation\n",
    "\n",
    "# Step 2: Implement the following function\n",
    "def V():\n",
    "    return # choose an ansatz from qoop.core.ansatz\n",
    "\n",
    "def Delta(rho):\n",
    "    # K = K_noise = [\\sqrt(p) I @ I, \\sqrt(1-p) Z @ Z]\n",
    "    # see Eq. 1 Ref. [1]\n",
    "    return # rho'\n",
    "\n",
    "# Step 3: Implement the following function\n",
    "# state_need_tomogaphy = ...\n",
    "# rho = np.conjugate(np.transpose(state_need_tomogaphy)) @ state_need_tomogaphy   # density matrix\n",
    "# rho' = Delta(rho)\n",
    "# compiler = qoop.qcompilation.QuantumCompilation(U = rho', V = V())\n",
    "# compiler.fit()\n",
    "# compiler.plot()\n",
    "# see fidelities versus iteration"
   ]
  },
  {
   "cell_type": "markdown",
   "metadata": {},
   "source": [
    "<img src = './docs/2.png' height ='800px'>"
   ]
  }
 ],
 "metadata": {
  "kernelspec": {
   "display_name": "Python 3",
   "language": "python",
   "name": "python3"
  },
  "language_info": {
   "codemirror_mode": {
    "name": "ipython",
    "version": 3
   },
   "file_extension": ".py",
   "mimetype": "text/x-python",
   "name": "python",
   "nbconvert_exporter": "python",
   "pygments_lexer": "ipython3",
   "version": "3.10.9"
  }
 },
 "nbformat": 4,
 "nbformat_minor": 2
}
