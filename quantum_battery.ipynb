{
 "cells": [
  {
   "cell_type": "markdown",
   "metadata": {},
   "source": [
    "### Quantum Battery project"
   ]
  },
  {
   "cell_type": "markdown",
   "metadata": {},
   "source": [
    "Step 1. Run below cell to import all package."
   ]
  },
  {
   "cell_type": "code",
   "execution_count": 7,
   "metadata": {},
   "outputs": [
    {
     "name": "stdout",
     "output_type": "stream",
     "text": [
      "The autoreload extension is already loaded. To reload it, use:\n",
      "  %reload_ext autoreload\n"
     ]
    }
   ],
   "source": [
    "from qsee.compilation.qcompilation import QuantumCompilation\n",
    "from qsee.compilation.qsp import QuantumStatePreparation\n",
    "from qsee.core import ansatz, state, gradient, optimizer\n",
    "from qsee.backend import constant, utilities\n",
    "import matplotlib.pyplot as plt\n",
    "import numpy as np, qiskit\n",
    "%load_ext autoreload\n",
    "%autoreload 2"
   ]
  },
  {
   "cell_type": "markdown",
   "metadata": {},
   "source": [
    "Step 2. Run below cell to make sure that your environment is ok or not"
   ]
  },
  {
   "cell_type": "code",
   "execution_count": 6,
   "metadata": {},
   "outputs": [],
   "source": [
    "qsp = QuantumStatePreparation.prepare([1, 0, 0, 0])"
   ]
  },
  {
   "cell_type": "markdown",
   "metadata": {},
   "source": [
    "Step 3. Coding!!!"
   ]
  },
  {
   "cell_type": "code",
   "execution_count": 39,
   "metadata": {},
   "outputs": [],
   "source": [
    "\n",
    "\n",
    "def U_charge(num_qubits: int, thetas: np.ndarray) -> qiskit.QuantumCircuit:\n",
    "    def H_charge(num_qubits: int, thetas: np.ndarray) -> np.ndarray:\n",
    "        ### Code the H charge here, it should return the Hamiltonian (matrix)\n",
    "        hamiltonian = np.array([])\n",
    "        return hamiltonian\n",
    "    ### Code the U_charge here\n",
    "    unitary = np.exp(-1j * H_charge(num_qubits, thetas))\n",
    "    qc_unitary = QuantumStatePreparation.prepare(unitary)\n",
    "    return qc_unitary\n",
    "\n",
    "def U(num_qubits: int) -> qiskit.QuantumCircuit:\n",
    "    ### It should return qc which is applied RZ on all qubits\n",
    "    return\n",
    "\n",
    "def cost(qc: qiskit.QuantumCircuit, thetas: np.ndarray) -> np.ndarray:\n",
    "    # Calculate the cost by its definition \n",
    "    # See the function loss_basic in fle qsee.core.metric as an example\n",
    "    # We will use measurement in this\n",
    "    return \n",
    "\n",
    "def gradient_cost(qc: qiskit.QuantumCircuit, thetas: np.ndarray) -> np.ndarray:\n",
    "    # Calculate the gradient by the definition of cost function\n",
    "    # See the function grad_loss in fle qsee.core.gradient as an example\n",
    "    # We will use parameter-shift rule in this\n",
    "    return \n",
    "\n",
    "# Assume that we have 6 cells => \n",
    "num_qubits = 6\n",
    "thetas = np.zeros(2*(num_qubits - 1))\n",
    "thetass = []\n",
    "costs = []\n",
    "u = U(num_qubits)\n",
    "u_charge = U_charge(num_qubits, thetas)\n",
    "uu_charge = u.compose(u_charge)\n",
    "# See the whole circuit\n",
    "print(uu_charge)\n",
    "for i in range(0, 100):\n",
    "    # Calculate the gradient,\n",
    "    grad_loss = gradient_cost(uu_charge, thetas)\n",
    "    # Using standard gradient descent\n",
    "    thetas = optimizer.sgd(thetas, grad_loss)\n",
    "    cost = cost(uu_charge, thetas)\n",
    "    thetass.append(thetas.copy())\n",
    "    costs.append(cost)"
   ]
  },
  {
   "cell_type": "code",
   "execution_count": null,
   "metadata": {},
   "outputs": [],
   "source": [
    "# Visualize cost versus iteration\n",
    "plt.plot(costs)"
   ]
  }
 ],
 "metadata": {
  "kernelspec": {
   "display_name": "Python 3",
   "language": "python",
   "name": "python3"
  },
  "language_info": {
   "codemirror_mode": {
    "name": "ipython",
    "version": 3
   },
   "file_extension": ".py",
   "mimetype": "text/x-python",
   "name": "python",
   "nbconvert_exporter": "python",
   "pygments_lexer": "ipython3",
   "version": "3.10.9"
  },
  "orig_nbformat": 4
 },
 "nbformat": 4,
 "nbformat_minor": 2
}
